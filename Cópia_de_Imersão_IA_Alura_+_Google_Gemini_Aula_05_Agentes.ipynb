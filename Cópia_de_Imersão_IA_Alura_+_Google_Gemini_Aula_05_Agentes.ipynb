{
  "nbformat": 4,
  "nbformat_minor": 0,
  "metadata": {
    "colab": {
      "provenance": [],
      "include_colab_link": true
    },
    "kernelspec": {
      "name": "python3",
      "display_name": "Python 3"
    },
    "language_info": {
      "name": "python"
    }
  },
  "cells": [
    {
      "cell_type": "markdown",
      "metadata": {
        "id": "view-in-github",
        "colab_type": "text"
      },
      "source": [
        "<a href=\"https://colab.research.google.com/github/Anny-rev/jogo-allura/blob/main/C%C3%B3pia_de_Imers%C3%A3o_IA_Alura_%2B_Google_Gemini_Aula_05_Agentes.ipynb\" target=\"_parent\"><img src=\"https://colab.research.google.com/assets/colab-badge.svg\" alt=\"Open In Colab\"/></a>"
      ]
    },
    {
      "cell_type": "code",
      "source": [
        "%pip -q install google-genai"
      ],
      "metadata": {
        "id": "UCCbECexLk_h"
      },
      "execution_count": null,
      "outputs": []
    },
    {
      "cell_type": "code",
      "source": [
        "# Configura a API Key do Google Gemini\n",
        "\n",
        "import os\n",
        "from google.colab import userdata\n",
        "\n",
        "os.environ[\"GOOGLE_API_KEY\"] = userdata.get('GOOGLE_API_KEY')"
      ],
      "metadata": {
        "id": "NfCqHo1tLk8P"
      },
      "execution_count": null,
      "outputs": []
    },
    {
      "cell_type": "code",
      "source": [
        "# Configura o cliente da SDK do Gemini\n",
        "\n",
        "from google import genai\n",
        "\n",
        "client = genai.Client()\n",
        "\n",
        "MODEL_ID = \"gemini-2.0-flash\""
      ],
      "metadata": {
        "id": "bV4w0H5TLk5g"
      },
      "execution_count": 3,
      "outputs": []
    },
    {
      "cell_type": "code",
      "source": [
        "# Pergunta ao Gemini uma informação mais recente que seu conhecimento\n",
        "\n",
        "from IPython.display import HTML, Markdown\n",
        "\n",
        "# Perguntar pro modelo quando é a próxima imersão de IA ###############################################\n",
        "resposta=client.models.generate_content(\n",
        "    model=MODEL_ID,\n",
        "    contents='Quando é a próxima Imersão IA com Google Gemini da Alura?',\n",
        ")\n",
        "\n",
        "# Exibe a resposta na tela\n",
        "display(Markdown(f\"Resposta:\\n {resposta.text}\"))"
      ],
      "metadata": {
        "id": "HwVP7Xi34Zuw",
        "colab": {
          "base_uri": "https://localhost:8080/",
          "height": 145
        },
        "outputId": "0f924a0a-02a4-4b82-a07c-c1974bae4ae5"
      },
      "execution_count": 4,
      "outputs": [
        {
          "output_type": "display_data",
          "data": {
            "text/plain": [
              "<IPython.core.display.Markdown object>"
            ],
            "text/markdown": "Resposta:\n A Alura não tem uma data específica para a próxima Imersão IA com Google Gemini no momento. A melhor forma de ficar por dentro das novidades e saber quando a próxima edição será lançada é:\n\n*   **Acompanhar a página da Alura:** Verifique regularmente a página da Alura dedicada a cursos de Inteligência Artificial e/ou a página de Imersões.\n*   **Seguir a Alura nas redes sociais:** A Alura costuma divulgar novos cursos e eventos em suas redes sociais (LinkedIn, Instagram, etc.).\n*   **Assinar a newsletter da Alura:** Cadastre seu e-mail na newsletter da Alura para receber novidades e informações sobre lançamentos de cursos.\n\nAssim que a Alura divulgar a data da próxima Imersão IA com Google Gemini, você ficará sabendo por um desses canais."
          },
          "metadata": {}
        }
      ]
    },
    {
      "cell_type": "code",
      "source": [
        "# Pergunta ao Gemini uma informação utilizando a busca do Google como contexto\n",
        "\n",
        "response = client.models.generate_content(\n",
        "    model=MODEL_ID,\n",
        "    contents='Quando é a próxima Imersão IA com Google Gemini da Alura?',\n",
        "     config={\"tools\":[{\"google_search\": {}}]}\n",
        ")\n",
        "\n",
        "# Exibe a resposta na tela\n",
        "display(Markdown(f\"Resposta:\\n {response.text}\"))"
      ],
      "metadata": {
        "id": "yXaZd7iZ4ftw",
        "colab": {
          "base_uri": "https://localhost:8080/",
          "height": 64
        },
        "outputId": "836ec4d9-ce39-450f-ff7c-0636d083ffb5"
      },
      "execution_count": 5,
      "outputs": [
        {
          "output_type": "display_data",
          "data": {
            "text/plain": [
              "<IPython.core.display.Markdown object>"
            ],
            "text/markdown": "Resposta:\n A próxima Imersão IA com Google Gemini da Alura aconteceu de 12 a 16 de maio de 2025. As inscrições para esta edição foram até o dia 11 de maio de 2025.\n"
          },
          "metadata": {}
        }
      ]
    },
    {
      "cell_type": "code",
      "source": [
        "# Exibe a busca\n",
        "print(f\"Busca realizada: {response.candidates[0].grounding_metadata.web_search_queries}\")\n",
        "# Exibe as URLs nas quais ele se baseou\n",
        "print(f\"Páginas utilizadas na resposta: {', '.join([site.web.title for site in response.candidates[0].grounding_metadata.grounding_chunks])}\")\n",
        "print()\n",
        "display(HTML(response.candidates[0].grounding_metadata.search_entry_point.rendered_content))"
      ],
      "metadata": {
        "id": "xHSNlTd84heJ",
        "outputId": "86328cba-1475-4068-8191-e46416a8d4f8",
        "colab": {
          "base_uri": "https://localhost:8080/",
          "height": 117
        }
      },
      "execution_count": 6,
      "outputs": [
        {
          "output_type": "stream",
          "name": "stdout",
          "text": [
            "Busca realizada: ['próxima Imersão IA com Google Gemini da Alura']\n",
            "Páginas utilizadas na resposta: thallesbenicio.com.br, starten.tech, tecmundo.com.br, youtube.com\n",
            "\n"
          ]
        },
        {
          "output_type": "display_data",
          "data": {
            "text/plain": [
              "<IPython.core.display.HTML object>"
            ],
            "text/html": [
              "<style>\n",
              ".container {\n",
              "  align-items: center;\n",
              "  border-radius: 8px;\n",
              "  display: flex;\n",
              "  font-family: Google Sans, Roboto, sans-serif;\n",
              "  font-size: 14px;\n",
              "  line-height: 20px;\n",
              "  padding: 8px 12px;\n",
              "}\n",
              ".chip {\n",
              "  display: inline-block;\n",
              "  border: solid 1px;\n",
              "  border-radius: 16px;\n",
              "  min-width: 14px;\n",
              "  padding: 5px 16px;\n",
              "  text-align: center;\n",
              "  user-select: none;\n",
              "  margin: 0 8px;\n",
              "  -webkit-tap-highlight-color: transparent;\n",
              "}\n",
              ".carousel {\n",
              "  overflow: auto;\n",
              "  scrollbar-width: none;\n",
              "  white-space: nowrap;\n",
              "  margin-right: -12px;\n",
              "}\n",
              ".headline {\n",
              "  display: flex;\n",
              "  margin-right: 4px;\n",
              "}\n",
              ".gradient-container {\n",
              "  position: relative;\n",
              "}\n",
              ".gradient {\n",
              "  position: absolute;\n",
              "  transform: translate(3px, -9px);\n",
              "  height: 36px;\n",
              "  width: 9px;\n",
              "}\n",
              "@media (prefers-color-scheme: light) {\n",
              "  .container {\n",
              "    background-color: #fafafa;\n",
              "    box-shadow: 0 0 0 1px #0000000f;\n",
              "  }\n",
              "  .headline-label {\n",
              "    color: #1f1f1f;\n",
              "  }\n",
              "  .chip {\n",
              "    background-color: #ffffff;\n",
              "    border-color: #d2d2d2;\n",
              "    color: #5e5e5e;\n",
              "    text-decoration: none;\n",
              "  }\n",
              "  .chip:hover {\n",
              "    background-color: #f2f2f2;\n",
              "  }\n",
              "  .chip:focus {\n",
              "    background-color: #f2f2f2;\n",
              "  }\n",
              "  .chip:active {\n",
              "    background-color: #d8d8d8;\n",
              "    border-color: #b6b6b6;\n",
              "  }\n",
              "  .logo-dark {\n",
              "    display: none;\n",
              "  }\n",
              "  .gradient {\n",
              "    background: linear-gradient(90deg, #fafafa 15%, #fafafa00 100%);\n",
              "  }\n",
              "}\n",
              "@media (prefers-color-scheme: dark) {\n",
              "  .container {\n",
              "    background-color: #1f1f1f;\n",
              "    box-shadow: 0 0 0 1px #ffffff26;\n",
              "  }\n",
              "  .headline-label {\n",
              "    color: #fff;\n",
              "  }\n",
              "  .chip {\n",
              "    background-color: #2c2c2c;\n",
              "    border-color: #3c4043;\n",
              "    color: #fff;\n",
              "    text-decoration: none;\n",
              "  }\n",
              "  .chip:hover {\n",
              "    background-color: #353536;\n",
              "  }\n",
              "  .chip:focus {\n",
              "    background-color: #353536;\n",
              "  }\n",
              "  .chip:active {\n",
              "    background-color: #464849;\n",
              "    border-color: #53575b;\n",
              "  }\n",
              "  .logo-light {\n",
              "    display: none;\n",
              "  }\n",
              "  .gradient {\n",
              "    background: linear-gradient(90deg, #1f1f1f 15%, #1f1f1f00 100%);\n",
              "  }\n",
              "}\n",
              "</style>\n",
              "<div class=\"container\">\n",
              "  <div class=\"headline\">\n",
              "    <svg class=\"logo-light\" width=\"18\" height=\"18\" viewBox=\"9 9 35 35\" fill=\"none\" xmlns=\"http://www.w3.org/2000/svg\">\n",
              "      <path fill-rule=\"evenodd\" clip-rule=\"evenodd\" d=\"M42.8622 27.0064C42.8622 25.7839 42.7525 24.6084 42.5487 23.4799H26.3109V30.1568H35.5897C35.1821 32.3041 33.9596 34.1222 32.1258 35.3448V39.6864H37.7213C40.9814 36.677 42.8622 32.2571 42.8622 27.0064V27.0064Z\" fill=\"#4285F4\"/>\n",
              "      <path fill-rule=\"evenodd\" clip-rule=\"evenodd\" d=\"M26.3109 43.8555C30.9659 43.8555 34.8687 42.3195 37.7213 39.6863L32.1258 35.3447C30.5898 36.3792 28.6306 37.0061 26.3109 37.0061C21.8282 37.0061 18.0195 33.9811 16.6559 29.906H10.9194V34.3573C13.7563 39.9841 19.5712 43.8555 26.3109 43.8555V43.8555Z\" fill=\"#34A853\"/>\n",
              "      <path fill-rule=\"evenodd\" clip-rule=\"evenodd\" d=\"M16.6559 29.8904C16.3111 28.8559 16.1074 27.7588 16.1074 26.6146C16.1074 25.4704 16.3111 24.3733 16.6559 23.3388V18.8875H10.9194C9.74388 21.2072 9.06992 23.8247 9.06992 26.6146C9.06992 29.4045 9.74388 32.022 10.9194 34.3417L15.3864 30.8621L16.6559 29.8904V29.8904Z\" fill=\"#FBBC05\"/>\n",
              "      <path fill-rule=\"evenodd\" clip-rule=\"evenodd\" d=\"M26.3109 16.2386C28.85 16.2386 31.107 17.1164 32.9095 18.8091L37.8466 13.8719C34.853 11.082 30.9659 9.3736 26.3109 9.3736C19.5712 9.3736 13.7563 13.245 10.9194 18.8875L16.6559 23.3388C18.0195 19.2636 21.8282 16.2386 26.3109 16.2386V16.2386Z\" fill=\"#EA4335\"/>\n",
              "    </svg>\n",
              "    <svg class=\"logo-dark\" width=\"18\" height=\"18\" viewBox=\"0 0 48 48\" xmlns=\"http://www.w3.org/2000/svg\">\n",
              "      <circle cx=\"24\" cy=\"23\" fill=\"#FFF\" r=\"22\"/>\n",
              "      <path d=\"M33.76 34.26c2.75-2.56 4.49-6.37 4.49-11.26 0-.89-.08-1.84-.29-3H24.01v5.99h8.03c-.4 2.02-1.5 3.56-3.07 4.56v.75l3.91 2.97h.88z\" fill=\"#4285F4\"/>\n",
              "      <path d=\"M15.58 25.77A8.845 8.845 0 0 0 24 31.86c1.92 0 3.62-.46 4.97-1.31l4.79 3.71C31.14 36.7 27.65 38 24 38c-5.93 0-11.01-3.4-13.45-8.36l.17-1.01 4.06-2.85h.8z\" fill=\"#34A853\"/>\n",
              "      <path d=\"M15.59 20.21a8.864 8.864 0 0 0 0 5.58l-5.03 3.86c-.98-2-1.53-4.25-1.53-6.64 0-2.39.55-4.64 1.53-6.64l1-.22 3.81 2.98.22 1.08z\" fill=\"#FBBC05\"/>\n",
              "      <path d=\"M24 14.14c2.11 0 4.02.75 5.52 1.98l4.36-4.36C31.22 9.43 27.81 8 24 8c-5.93 0-11.01 3.4-13.45 8.36l5.03 3.85A8.86 8.86 0 0 1 24 14.14z\" fill=\"#EA4335\"/>\n",
              "    </svg>\n",
              "    <div class=\"gradient-container\"><div class=\"gradient\"></div></div>\n",
              "  </div>\n",
              "  <div class=\"carousel\">\n",
              "    <a class=\"chip\" href=\"https://vertexaisearch.cloud.google.com/grounding-api-redirect/AbF9wXHmHJNJkXP3nPX9XR8bPsBs85wNhM_8tcaP92RCULFSt8iWl0OgMTwms6f1L2mqocIi6Qk0g8TZneR90dnr50ilj5epSxxgOD8GnHq-HgahrxB-RPAKOGp9M1CGhcn7whKBhppp-sABWj6hfQetS7I7p9cuFRzp_UhzgIcoOVahebEy-pA_wHyZPWr93WgO0MkqAYkJfKBcwxGLKW51h8nc5lNzkxVCFUlO0Bntuh1haU7IBYhy59bul1K2\">próxima Imersão IA com Google Gemini da Alura</a>\n",
              "  </div>\n",
              "</div>\n"
            ]
          },
          "metadata": {}
        }
      ]
    },
    {
      "cell_type": "code",
      "source": [
        "# Instalar Framework ADK de agentes do Google ################################################\n",
        "!pip install -q google-adk"
      ],
      "metadata": {
        "id": "hvZ3UnPI4jhJ",
        "colab": {
          "base_uri": "https://localhost:8080/"
        },
        "outputId": "0f37a8b3-e8d1-479e-90be-3d995670a08b"
      },
      "execution_count": 7,
      "outputs": [
        {
          "output_type": "stream",
          "name": "stdout",
          "text": [
            "\u001b[?25l   \u001b[90m━━━━━━━━━━━━━━━━━━━━━━━━━━━━━━━━━━━━━━━━\u001b[0m \u001b[32m0.0/1.2 MB\u001b[0m \u001b[31m?\u001b[0m eta \u001b[36m-:--:--\u001b[0m\r\u001b[2K   \u001b[91m━━━━━━━━━━━━━━━\u001b[0m\u001b[90m╺\u001b[0m\u001b[90m━━━━━━━━━━━━━━━━━━━━━━━━\u001b[0m \u001b[32m0.5/1.2 MB\u001b[0m \u001b[31m14.4 MB/s\u001b[0m eta \u001b[36m0:00:01\u001b[0m\r\u001b[2K   \u001b[91m━━━━━━━━━━━━━━━━━━━━━━━━━━━━━━━━━━━━━━━\u001b[0m\u001b[91m╸\u001b[0m \u001b[32m1.2/1.2 MB\u001b[0m \u001b[31m23.9 MB/s\u001b[0m eta \u001b[36m0:00:01\u001b[0m\r\u001b[2K   \u001b[90m━━━━━━━━━━━━━━━━━━━━━━━━━━━━━━━━━━━━━━━━\u001b[0m \u001b[32m1.2/1.2 MB\u001b[0m \u001b[31m16.8 MB/s\u001b[0m eta \u001b[36m0:00:00\u001b[0m\n",
            "\u001b[?25h\u001b[?25l   \u001b[90m━━━━━━━━━━━━━━━━━━━━━━━━━━━━━━━━━━━━━━━━\u001b[0m \u001b[32m0.0/240.0 kB\u001b[0m \u001b[31m?\u001b[0m eta \u001b[36m-:--:--\u001b[0m\r\u001b[2K   \u001b[90m━━━━━━━━━━━━━━━━━━━━━━━━━━━━━━━━━━━━━━━━\u001b[0m \u001b[32m240.0/240.0 kB\u001b[0m \u001b[31m16.7 MB/s\u001b[0m eta \u001b[36m0:00:00\u001b[0m\n",
            "\u001b[?25h\u001b[?25l   \u001b[90m━━━━━━━━━━━━━━━━━━━━━━━━━━━━━━━━━━━━━━━━\u001b[0m \u001b[32m0.0/95.2 kB\u001b[0m \u001b[31m?\u001b[0m eta \u001b[36m-:--:--\u001b[0m\r\u001b[2K   \u001b[90m━━━━━━━━━━━━━━━━━━━━━━━━━━━━━━━━━━━━━━━━\u001b[0m \u001b[32m95.2/95.2 kB\u001b[0m \u001b[31m8.3 MB/s\u001b[0m eta \u001b[36m0:00:00\u001b[0m\n",
            "\u001b[2K   \u001b[90m━━━━━━━━━━━━━━━━━━━━━━━━━━━━━━━━━━━━━━━━\u001b[0m \u001b[32m217.1/217.1 kB\u001b[0m \u001b[31m13.2 MB/s\u001b[0m eta \u001b[36m0:00:00\u001b[0m\n",
            "\u001b[2K   \u001b[90m━━━━━━━━━━━━━━━━━━━━━━━━━━━━━━━━━━━━━━━━\u001b[0m \u001b[32m334.1/334.1 kB\u001b[0m \u001b[31m19.8 MB/s\u001b[0m eta \u001b[36m0:00:00\u001b[0m\n",
            "\u001b[2K   \u001b[90m━━━━━━━━━━━━━━━━━━━━━━━━━━━━━━━━━━━━━━━━\u001b[0m \u001b[32m131.1/131.1 kB\u001b[0m \u001b[31m9.2 MB/s\u001b[0m eta \u001b[36m0:00:00\u001b[0m\n",
            "\u001b[2K   \u001b[90m━━━━━━━━━━━━━━━━━━━━━━━━━━━━━━━━━━━━━━━━\u001b[0m \u001b[32m65.8/65.8 kB\u001b[0m \u001b[31m5.0 MB/s\u001b[0m eta \u001b[36m0:00:00\u001b[0m\n",
            "\u001b[2K   \u001b[90m━━━━━━━━━━━━━━━━━━━━━━━━━━━━━━━━━━━━━━━━\u001b[0m \u001b[32m119.0/119.0 kB\u001b[0m \u001b[31m8.5 MB/s\u001b[0m eta \u001b[36m0:00:00\u001b[0m\n",
            "\u001b[2K   \u001b[90m━━━━━━━━━━━━━━━━━━━━━━━━━━━━━━━━━━━━━━━━\u001b[0m \u001b[32m194.9/194.9 kB\u001b[0m \u001b[31m13.8 MB/s\u001b[0m eta \u001b[36m0:00:00\u001b[0m\n",
            "\u001b[2K   \u001b[90m━━━━━━━━━━━━━━━━━━━━━━━━━━━━━━━━━━━━━━━━\u001b[0m \u001b[32m62.5/62.5 kB\u001b[0m \u001b[31m4.5 MB/s\u001b[0m eta \u001b[36m0:00:00\u001b[0m\n",
            "\u001b[2K   \u001b[90m━━━━━━━━━━━━━━━━━━━━━━━━━━━━━━━━━━━━━━━━\u001b[0m \u001b[32m103.3/103.3 kB\u001b[0m \u001b[31m7.4 MB/s\u001b[0m eta \u001b[36m0:00:00\u001b[0m\n",
            "\u001b[2K   \u001b[90m━━━━━━━━━━━━━━━━━━━━━━━━━━━━━━━━━━━━━━━━\u001b[0m \u001b[32m44.4/44.4 kB\u001b[0m \u001b[31m3.0 MB/s\u001b[0m eta \u001b[36m0:00:00\u001b[0m\n",
            "\u001b[2K   \u001b[90m━━━━━━━━━━━━━━━━━━━━━━━━━━━━━━━━━━━━━━━━\u001b[0m \u001b[32m72.0/72.0 kB\u001b[0m \u001b[31m4.8 MB/s\u001b[0m eta \u001b[36m0:00:00\u001b[0m\n",
            "\u001b[?25h"
          ]
        }
      ]
    },
    {
      "cell_type": "code",
      "execution_count": 8,
      "metadata": {
        "id": "aePV2bdfDeoW"
      },
      "outputs": [],
      "source": [
        "from google.adk.agents import Agent\n",
        "from google.adk.runners import Runner\n",
        "from google.adk.sessions import InMemorySessionService\n",
        "from google.adk.tools import google_search\n",
        "from google.genai import types  # Para criar conteúdos (Content e Part)\n",
        "from datetime import date\n",
        "import textwrap # Para formatar melhor a saída de texto\n",
        "from IPython.display import display, Markdown # Para exibir texto formatado no Colab\n",
        "import requests # Para fazer requisições HTTP\n",
        "import warnings\n",
        "\n",
        "warnings.filterwarnings(\"ignore\")"
      ]
    },
    {
      "cell_type": "code",
      "source": [
        "# Função auxiliar que envia uma mensagem para um agente via Runner e retorna a resposta final\n",
        "def call_agent(agent: Agent, message_text: str, session_service: InMemorySessionService, user_id:str, session_id:str) -> str:\n",
        "   # Cria um Runner para o agente;\n",
        "  runner = Runner(agent=agent, app_name=agent.name, session_service=session_service)\n",
        "   # Cria o conteúdo da mensagem de entrada;\n",
        "  content = types.Content(role=\"user\", parts=[types.Part(text=message_text)])\n",
        "  final_response = \"\"\n",
        "   # Itera assincronamente pelos eventos retornados durante a execução do agente;\n",
        "  for event in runner.run(user_id=user_id, session_id=session_id, new_message=content):\n",
        "    if event.is_final_response():\n",
        "      for part in event.content.parts:\n",
        "        if part.text is not None:\n",
        "          final_response += part.text\n",
        "          final_response += \"\\n\"\n",
        "  return final_response\n",
        "\n",
        "#....(restante do seu código de definição dos agentes)...\n",
        "\n",
        "# --- Obter o Tópico do Usuário---\n",
        "topico = input(\"Por favor, digite o tópico sobre o qual você quer criar o seu material\")\n",
        "\n",
        "# Inicializa o serviço de sessão a sessão UMA ÚNICA VEZ\n",
        "session_service = InMemorySessionService()\n",
        "session = session_service.create_session(app_name=\"history_material_generator\", user_id=\"user1\", session_id=\"session1\")\n",
        "user_id = \"user1\"\n",
        "session_id = \"session1\"\n",
        "data_de_hoje = date.today().strftime(\"%d/%m/%Y\")\n",
        "\n",
        "if not topico:\n",
        "  print(\"Por favor, digite um tópico válido\")\n",
        "else:\n",
        "    print(f\"Maravilha! Vamos produzir um excelente material sobre {topico} para seus alunos\")\n",
        "\n",
        "    # Passa o session_service, user_id e session_id para todas as chamadas\n",
        "    textos_buscados = agente_buscador(topico, data_de_hoje, session_service, user_id, session_id)\n",
        "    print(\"\\n---Resultado do Agente 1 (Buscador)---\\n\")\n",
        "    display(to_markdown(textos_buscados))\n",
        "    print(\"--------------------------------------------------------------\")\n",
        "\n",
        "    plano_do_material = agente_planejador(topico, textos_buscados, session_service, user_id, session_id)\n",
        "    print(\"\\n---Resultado do Agente 2 (Planejador)---\\n\")\n",
        "    display(to_markdown(plano_do_material))\n",
        "    print(\"--------------------------------------------------------------\")\n",
        "\n",
        "    # Corrigido o erro de digitação de \"agente-redator\" para \"agente_redator\" e a indentação\n",
        "    rascunho = agente_redator(topico, plano_do_material, session_service, user_id, session_id)\n",
        "    print(\"\\n---Resultado do Agente 3 (Redator)---\\n\")\n",
        "    display(to_markdown(rascunho))\n",
        "    print(\"--------------------------------------------------------------\")\n",
        "\n",
        "    texto_revisado = agente_revisor(topico, rascunho, session_service, user_id, session_id)\n",
        "    print(\"\\n---Resultado do Agente 4 (Revisor)---\\n\")\n",
        "    display(to_markdown(texto_revisado))"
      ],
      "metadata": {
        "id": "Snw9ueoHpn5z"
      },
      "execution_count": null,
      "outputs": []
    },
    {
      "cell_type": "code",
      "source": [
        "##########################################\n",
        "# --- Agente 1: Buscador de Notícias ---\n",
        "##########################################\n",
        "def agente_buscador(topico,data_de_hoje, session_service, user_id, session_id):\n",
        "    buscador = Agent(\n",
        "        name= \"agente_buscador\",\n",
        "        model= \"gemini-2.0-flash\",\n",
        "        description= \"Agente que busca no google notícias sobre o tópico indicado\",\n",
        "        tools= [google_search],\n",
        "        instruction= \"\"\"Você é um assistente de pesquisa que irá auxiliar uma professora na produção de materiais didáticos da disciplina de história para alunos do ensino fundamental. Você irá utilizar a ferramenta de pesquisa do Google (google_search) para acessar textos relevantes sobre o tópico indicado.\n",
        "        Foque em no máximo cinco textos relevantes. Considere a respeitabilidade das fontes, dando preferência a textos publicados em sites de universidades e outras instituições respeitadas de produção de conhecimento.\n",
        "        Descarte textos que geraram muita polêmica ou reações negativas.\n",
        "        Esses textos devem ser atuais, com publicação no site de no máximo cinco anos da data atual.\"\"\"\n",
        "    )\n",
        "\n",
        "    entrada_do_agente_buscador = f\"Tópico: {topico}\\nData de hoje: {data_de_hoje}\"\n",
        "    # Chamando call_agent com os novos parâmetros\n",
        "    textos_buscados = call_agent(buscador, entrada_do_agente_buscador, session_service, user_id, session_id)\n",
        "    return textos_buscados"
      ],
      "metadata": {
        "id": "TRrCad2zp5gU"
      },
      "execution_count": null,
      "outputs": []
    },
    {
      "cell_type": "code",
      "source": [
        "################################################\n",
        "# --- Agente 2: Planejador de materiais didáticos --- #\n",
        "################################################\n",
        "def agente_planejador(topico, textos_buscados, session_service, user_id, session_id):\n",
        "    planejador = Agent(\n",
        "        name=\"agente_planejador\",\n",
        "        model=\"gemini-2.0-flash\",\n",
        "        # Inserir as instruções do Agente Planejador #################################################\n",
        "        instruction=\"\"\"Você é um planejador na produção de materiais didáticos da disciplina de história para alunos do ensino fundamental. Você é especialista em história.\n",
        "        Com base nos textos buscados, você deve usar a ferramenta de pesquisa do Google (google_search) para criar um plano que contemple os pontos mais relevantes do topico abordado a serem utilizados na produção de materiais didáticos.\n",
        "        Você também pode utilizar o (google_search) para buscar mais informações sobre o tópico abordado.\n",
        "        No final, você irá escolher o ponto mais relevante com base em sua pesquisa, e retornará este ponto com um plano sobre os assuntos a serem abordados no material didático que será produzido posteriormente.\"\"\",\n",
        "        description=\"Agente que planeja materiais didáticos da disciplina de história\",\n",
        "        tools=[google_search]\n",
        "    )\n",
        "\n",
        "    entrada_do_agente_planejador = f\"Tópico:{topico}\\ntextos buscados: {textos_buscados}\"\n",
        "    # Executa o agente, chamando call_agent com os novos parâmetros\n",
        "    plano_de_material = call_agent(planejador, entrada_do_agente_planejador, session_service, user_id, session_id)\n",
        "    return plano_de_material"
      ],
      "metadata": {
        "id": "LTbyTWVCp_2p"
      },
      "execution_count": null,
      "outputs": []
    },
    {
      "cell_type": "code",
      "source": [
        "######################################\n",
        "# --- Agente 3: Redator do Post --- #\n",
        "######################################\n",
        "def agente_redator(topico, plano_de_material, session_service, user_id, session_id):\n",
        "    redator = Agent(\n",
        "        name=\"agente_redator\",\n",
        "        model=\"gemini-2.5-pro-preview-03-25\",\n",
        "        instruction=\"\"\"Você é um produtor de materiais didáticos da disciplina de história para alunos do ensino fundamental.\n",
        "            Você é um especialista em educação que auxilia professores de história produzindo materiais didáticos.\n",
        "            Utilize o tema fornecido no plano de material didatico e os pontos mais relevantes fornecidos e, com base nisso,\n",
        "            produza um rascunho  de material didático sobre o tema indicado. O material produzido deve ser criativo e ser de interesse do público\n",
        "            a ser contemplado por ele (público pré adolescente). O material deve ser escrito em português.\"\"\",\n",
        "        description=\"Agente redator de materiais didáticos da disciplina de História para o ensino fundamental\"\n",
        "    )\n",
        "    entrada_do_agente_redator = f\"Tópico: {topico}\\nPlano de material didatico: {plano_de_material}\"\n",
        "    # Executa o agente, chamando call_agent com os novos parâmetros\n",
        "    rascunho = call_agent(redator, entrada_do_agente_redator, session_service, user_id, session_id)\n",
        "    return rascunho"
      ],
      "metadata": {
        "id": "OQAKmfarqK5I"
      },
      "execution_count": null,
      "outputs": []
    },
    {
      "cell_type": "code",
      "source": [
        "##########################################\n",
        "# --- Agente 4: Revisor de Qualidade --- #\n",
        "##########################################\n",
        "def agente_revisor(topico, rascunho, session_service, user_id, session_id):\n",
        "    revisor = Agent(\n",
        "        name=\"agente_revisor\",\n",
        "        model=\"gemini-2.5-pro-preview-03-25\",\n",
        "        instruction=\"\"\"\n",
        "            Você é um Editor e Revisor de texto meticuloso, especializado na produção de materiais didáticos da disciplina de história para o ensino fundamental.\n",
        "            Por ter um público jovem, entre 11 e 15 anos, use um tom de escrita e tenha  uma abordagem condizente ao público ao qual o material se destina.\n",
        "            Revise o rascunho gerado abaixo sobre o tópico indicado, verificando clareza, veracidade das informações, relevância e facilidade de compreensão.\n",
        "            Se o rascunho estiver bom, responda apenas 'O rascunho está ótimo e pronto para ser utilizado!'.\n",
        "            Caso haja problemas, aponte-os e sugira melhorias.\n",
        "            \"\"\",\n",
        "        description=\"Agente revisor de materiais didáticos da disciplina de história para o ensino fundamental.\"\n",
        "    )\n",
        "    entrada_do_agente_revisor = f\"Tópico: {topico}\\nRascunho: {rascunho}\"\n",
        "    # Executa o agente, chamando call_agent com os novos parâmetros\n",
        "    texto_revisado = call_agent(revisor, entrada_do_agente_revisor, session_service, user_id, session_id)\n",
        "    return texto_revisado"
      ],
      "metadata": {
        "id": "hEKLKyzyqRjQ"
      },
      "execution_count": null,
      "outputs": []
    },
    {
      "cell_type": "code",
      "source": [
        "data_de_hoje = date.today().strftime(\"%d/%m/%Y\")\n",
        "\n",
        "print(\"🚀 Iniciando o Sistema de criação de material didático da disciplina de história para o ensino fundamental 🚀\")\n",
        "\n",
        "# --- Obter o Tópico do Usuário ---\n",
        "topico = input(\"❓ Por favor, digite o TÓPICO sobre o qual você quer criar o seu material \")\n",
        "\n",
        "# Inserir lógica do sistema de agentes ################################################\n",
        "if not topico:\n",
        "  print(\"Por favor, digite um tópico válido\")\n",
        "else:\n",
        "  print(f\"Maravilha! Vamos produzir um excelente material didático sobre {topico} para seus alunos\")\n",
        "  # Chamando agente_buscador com os novos parâmetros\n",
        "  textos_buscados = agente_buscador(topico, data_de_hoje, session_service, user_id, session_id)\n",
        "  print(\"\\n---Resultado do Agente 1 (Buscador)---\\n\")\n",
        "  display(to_markdown(textos_buscados))\n",
        "  print(\"----------------------------------------------------\")\n",
        "  # Chamando agente_planejador com os novos parâmetros\n",
        "  plano_do_material =  agente_planejador(topico, textos_buscados, session_service, user_id, session_id)\n",
        "  print(\"\\n---Resultado do Agente 2 (Planejador)---\\n\")\n",
        "  display(to_markdown(plano_do_material))\n",
        "  # Chamando agente_redator com os novos parâmetros\n",
        "  rascunho = agente_redator(topico, plano_do_material, session_service, user_id, session_id)\n",
        "  print(\"\\n---Resultado do Agente 3 (Redator)---\\n\")\n",
        "  display(to_markdown(rascunho))\n",
        "  print(\"----------------------------------------------------\")\n",
        "  # Chamando agente_revisor com os novos parâmetros\n",
        "  texto_revisado = agente_revisor(topico, rascunho, session_service, user_id, session_id)\n",
        "  print(\"\\n---Resultado do Agente 4 (Revisor)---\\n\")\n",
        "  display(to_markdown(texto_revisado))"
      ],
      "metadata": {
        "id": "S7GAXV8MqfFX"
      },
      "execution_count": null,
      "outputs": []
    }
  ]
}